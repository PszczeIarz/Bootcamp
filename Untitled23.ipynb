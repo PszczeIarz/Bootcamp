{
  "nbformat": 4,
  "nbformat_minor": 0,
  "metadata": {
    "colab": {
      "name": "Untitled23.ipynb",
      "provenance": [],
      "authorship_tag": "ABX9TyPEiKm/eDyWvGTpnx6HlqSY",
      "include_colab_link": true
    },
    "kernelspec": {
      "name": "python3",
      "display_name": "Python 3"
    },
    "language_info": {
      "name": "python"
    }
  },
  "cells": [
    {
      "cell_type": "markdown",
      "metadata": {
        "id": "view-in-github",
        "colab_type": "text"
      },
      "source": [
        "<a href=\"https://colab.research.google.com/github/PszczeIarz/Bootcamp/blob/main/Untitled23.ipynb\" target=\"_parent\"><img src=\"https://colab.research.google.com/assets/colab-badge.svg\" alt=\"Open In Colab\"/></a>"
      ]
    },
    {
      "cell_type": "code",
      "execution_count": null,
      "metadata": {
        "colab": {
          "base_uri": "https://localhost:8080/"
        },
        "id": "dI_Y9ZpohegF",
        "outputId": "4844aedd-c95a-4a46-d6d3-2f99ffdfdcff"
      },
      "outputs": [
        {
          "output_type": "stream",
          "name": "stdout",
          "text": [
            "Damian\n"
          ]
        }
      ],
      "source": [
        "print(\"Damian\")"
      ]
    },
    {
      "cell_type": "markdown",
      "source": [
        "Próba 1"
      ],
      "metadata": {
        "id": "AuvZW-pshnmE"
      }
    }
  ]
}